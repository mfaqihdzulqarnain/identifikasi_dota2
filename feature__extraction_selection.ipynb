{
 "cells": [
  {
   "cell_type": "code",
   "execution_count": 1,
   "metadata": {},
   "outputs": [
    {
     "name": "stderr",
     "output_type": "stream",
     "text": [
      "C:\\Anaconda3\\lib\\site-packages\\h5py\\__init__.py:36: FutureWarning: Conversion of the second argument of issubdtype from `float` to `np.floating` is deprecated. In future, it will be treated as `np.float64 == np.dtype(float).type`.\n",
      "  from ._conv import register_converters as _register_converters\n",
      "Using TensorFlow backend.\n"
     ]
    }
   ],
   "source": [
    "import numpy as np\n",
    "import pandas as pd\n",
    "import tensorflow as tf\n",
    "from keras.models import Model, Sequential\n",
    "from keras.layers import Input, Activation, Dense\n",
    "from keras.optimizers import SGD\n",
    "from keras.utils.np_utils import to_categorical"
   ]
  },
  {
   "cell_type": "code",
   "execution_count": 3,
   "metadata": {},
   "outputs": [
    {
     "name": "stdout",
     "output_type": "stream",
     "text": [
      "type               1.000000\n",
      "baseStr           -0.542666\n",
      "strGrowth         -0.542322\n",
      "maxStr            -0.581514\n",
      "baseAgi           -0.038086\n",
      "agiGrowth         -0.123072\n",
      "maxAgi            -0.110488\n",
      "baseInt            0.688410\n",
      "intGrowth          0.657814\n",
      "maxInt             0.699666\n",
      "totalBaseAttr      0.179483\n",
      "totalAttrGrowth    0.063110\n",
      "totalMaxAttr       0.114713\n",
      "moveSpeed          0.067136\n",
      "baseArmor         -0.113657\n",
      "minDmg            -0.384719\n",
      "maxDmg            -0.312799\n",
      "range              0.687704\n",
      "baseAttackTime    -0.297982\n",
      "attackPoint       -0.106053\n",
      "attackBackswing    0.011558\n",
      "turnRate          -0.034759\n",
      "regeneration      -0.090677\n",
      "Name: type, dtype: float64\n",
      "                 name  type  baseStr  strGrowth  maxStr  agiGrowth  maxAgi  \\\n",
      "0             Abaddon     0       23        2.6    85.4        1.5    53.0   \n",
      "1  Ancient Apparition     2       18        1.7    58.8        2.2    72.8   \n",
      "2           Anti-Mage     1       22        1.5    58.0        2.8    89.2   \n",
      "3                 Axe     0       25        2.8    92.2        2.2    72.8   \n",
      "4                Bane     2       23        2.4    80.6        2.4    80.6   \n",
      "\n",
      "   baseInt  intGrowth  maxInt  totalBaseAttr  totalMaxAttr  baseArmor  minDmg  \\\n",
      "0       21        2.0    69.0             61         207.4       1.43      55   \n",
      "1       25        2.6    87.4             63         219.0       1.86      44   \n",
      "2       15        1.8    58.2             59         205.4       2.14      49   \n",
      "3       18        1.6    56.4             63         221.4       1.86      49   \n",
      "4       23        2.4    80.6             69         241.8       4.29      60   \n",
      "\n",
      "   maxDmg  range  baseAttackTime  attackPoint  \n",
      "0      65    150            1.70         0.56  \n",
      "1      54    675            1.70         0.45  \n",
      "2      53    150            1.45         0.30  \n",
      "3      53    150            1.70         0.50  \n",
      "4      66    400            1.70         0.30  \n"
     ]
    }
   ],
   "source": [
    "# Pandas read CSV\n",
    "sf_train = pd.read_csv('training_data.csv')\n",
    "\n",
    "# Correlation Matrix for target\n",
    "corr_matrix = sf_train.corr()\n",
    "print(corr_matrix['type'])\n",
    "\n",
    "# Drop unnecessary columns\n",
    "sf_train.drop(sf_train.columns[[5, 12, 14, 21, 22, 23]], axis=1, inplace=True)\n",
    "print(sf_train.head())"
   ]
  },
  {
   "cell_type": "code",
   "execution_count": null,
   "metadata": {},
   "outputs": [],
   "source": []
  }
 ],
 "metadata": {
  "kernelspec": {
   "display_name": "Python 3",
   "language": "python",
   "name": "python3"
  },
  "language_info": {
   "codemirror_mode": {
    "name": "ipython",
    "version": 3
   },
   "file_extension": ".py",
   "mimetype": "text/x-python",
   "name": "python",
   "nbconvert_exporter": "python",
   "pygments_lexer": "ipython3",
   "version": "3.6.5"
  }
 },
 "nbformat": 4,
 "nbformat_minor": 2
}
